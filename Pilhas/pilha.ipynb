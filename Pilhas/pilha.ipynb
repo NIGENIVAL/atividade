class Stack:
    def __init__(self):
        self.items = []

    def is_empty(self):
        return self.items == []

    def push(self, item):
        self.items.append(item)

    def pop(self):
        if not self.is_empty():
            return self.items.pop()
        else:
            return "A pilha está vazia"

    def peek(self):
        if not self.is_empty():
            return self.items[-1]
        else:
            return "A pilha está vazia"

    def size(self):
        return len(self.items)


# Exemplo de uso
if __name__ == "__main__":
    stack = Stack()

    # Adicionando elementos à pilha
    stack.push(1)
    stack.push(2)
    stack.push(3)

    # Imprimindo o topo da pilha
    print("Topo da pilha:", stack.peek())

    # Removendo elementos da pilha
    print("Elemento removido:", stack.pop())
    print("Elemento removido:", stack.pop())

    # Verificando se a pilha está vazia
    print("A pilha está vazia?", stack.is_empty())

