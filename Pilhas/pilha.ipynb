class Node:
    def _init_(self, qtd, preco, descricao):
        # Método inicializador da classe Node, define os atributos qtd, preco, descricao e next.
        self.qtd = qtd  # Quantidade do produto
        self.preco = preco  # Preço do produto
        self.descricao = descricao  # Descrição do produto
        self.next = None  # Referência para o próximo nó na lista encadeada

class LinkedList:
    def _init_(self):
        # Método inicializador da classe LinkedList, define o atributo head como None.
        self.head = None  # Inicializa a lista encadeada com a cabeça (head) vazia
    
    def inserir_no_inicio(self, qtd, preco, descricao):
        # Método para inserir um novo nó no início da lista encadeada.
        new_node = Node(qtd, preco, descricao)  # Cria um novo nó com os dados fornecidos
        new_node.next = self.head  # Define o próximo nó do novo nó como o atual cabeça da lista
        self.head = new_node  # Atualiza a cabeça da lista para ser o novo nó

    def inserir_no_final(self, qtd, preco, descricao):
        # Método para inserir um novo nó no final da lista encadeada.
        new_node = Node(qtd, preco, descricao)  # Cria um novo nó com os dados fornecidos
        if self.head is None:  # Verifica se a lista está vazia
            self.head = new_node  # Se estiver vazia, o novo nó se torna a cabeça da lista
            return
        last = self.head  # Inicia a busca pelo último nó a partir da cabeça da lista
        while last.next:  # Encontra o último nó da lista
            last = last.next
        last.next = new_node  # Define o próximo nó do último nó como o novo nó

    def inserir_em_posicao(self, qtd, preco, descricao, posicao):
        # Método para inserir um novo nó em uma posição específica da lista encadeada.
        new_node = Node(qtd, preco, descricao)  # Cria um novo nó com os dados fornecidos
        if posicao == 0:  # Se a posição for 0, insere no início da lista
            new_node.next = self.head
            self.head = new_node
            return
        else:
            current = self.head
            for i in range(posicao - 1):  # Percorre até a posição anterior à desejada
                if current is None:  # Se o nó atual for None, a posição é inválida
                    print("Posição inválida")
                    return
                current = current.next

            if current is None:  # Se o nó atual for None, a posição é inválida
                print("Posição inválida")
                return
            
            new_node.next = current.next  # Insere o novo nó na posição desejada
            current.next = new_node
    
    # Outros métodos de remoção, acesso e manipulação da lista encadeada...

    def remover_duplicados(self):
        # Método para remover duplicatas da lista encadeada.
        if self.head is None:  # Verifica se a lista está vazia
            return

        current = self.head  # Define o nó atual como a cabeça da lista
        seen = set([(current.qtd, current.preco, current.descricao)])  # Conjunto para armazenar nós únicos

        while current.next is not None:  # Percorre a lista até o último nó
            if (current.next.qtd, current.next.preco, current.next.descricao) in seen:
                # Se o próximo nó já foi visto, remove-o da lista
                current.next = current.next.next
            else:
                # Se o próximo nó é único, adiciona-o ao conjunto de nós únicos
                seen.add((current.next.qtd, current.next.preco, current.next.descricao))
                current = current.next

    def exibir_lista(self):
        # Método para exibir os elementos da lista encadeada.
        current = self.head  # Define o nó atual como a cabeça da lista
        while current:  # Percorre a lista até o último nó
            print(f"Quantidade: {current.qtd} Preço: {current.preco} Descrição: {current.descricao}")
            current = current.next  # Avança para o próximo nó

# Teste
lista = LinkedList()  # Cria uma nova lista encadeada
lista.inserir_no_inicio(1, 50.0, "Arroz")  # Insere um novo nó no início da lista
lista.inserir_no_inicio(2, 7.0, "Feijão")  # Insere outro novo nó no início da lista
lista.inserir_no_final(3, 2.5, "Molho de tomate")  # Insere um novo nó no final da lista
lista.inserir_em_posicao(1, 62.0, "Azeite", 2)  # Insere um novo nó na posição 2 da lista
lista.inserir_no_final(1, 50.0, "Arroz")  # Inserindo um item duplicado
lista.inserir_no_final(2, 7.0, "Feijão")  # Inserindo outro item duplicado

print("Lista original:")
lista.exibir_lista()

lista.remover_duplicados()
print("\nLista após remoção de duplicatas:")
lista.exibir_lista()
